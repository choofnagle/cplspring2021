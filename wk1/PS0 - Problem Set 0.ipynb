{
 "cells": [
  {
   "cell_type": "markdown",
   "metadata": {},
   "source": [
    "## Problem Set 0\n",
    "\n",
    "*Computer Programming for Lawyers*\n",
    "\n",
    "## Introduction\n",
    "\n",
    "This is your first programming assignment. You must submit it via bCourses, but it will not be graded. The primary goals of the tasks that follow are to ensure that your Python programming environment is functioning properly and you are familiar with the basic features of Python. Please do the assigned reading before attempting the problem set.\n",
    "\n",
    "Another goal for this assignment is to help you better appreciate what this class will entail. Unlike most assignments you have completed in law school, the problem sets in this class have correct answers, and it is hard to predict in advance how many hours will be required to find the correct answer to a particular problem.\n",
    "\n",
    "The key ingredient for success in this class is the ability to allot enough time each week to finish the problem sets. Students who have many other intensive competing obligations might struggle. To help you gauge what this means for you, we are assigning this mini-problem-set for you to try to solve before the start of the first lecture of this class. The answer will be discussed in your first lab meeting."
   ]
  },
  {
   "cell_type": "markdown",
   "metadata": {},
   "source": [
    "## Required and Optional Tasks\n",
    "\n",
    "This problem set asks you to complete three tasks, each of which builds on the prior task, and each more difficult than the last. To satisfy the minimum requirements for this assignment, you must find the correct answer to Task One. Everybody should attempt to solve Task Two, but it is fine if you cannot solve it. Task Three is strictly optional: solve it only if you have the time and inclination.\n",
    "\n",
    "\n",
    "## Expectations\n",
    "\n",
    "* This is an ungraded assignment. You are expected to attempt to solve at least Task One below, and submit it via bCourses no later than the start of the first lecture.\n",
    "* Complete this problem set in Jupyter Notebook\n",
    "  * If you are on a waitlist and thus cannot access bCourses, submit your answers via email to Chris Hoofnagle (choofnagle@berkeley.edu): \"Waitlist: Problem Set Zero\".\n",
    "* This is an individual assignment. Do not seek help from anyone except the course instructors.\n",
    "* You are permitted to use only the Python features we have covered so far. Specifically, you may not use if-statements or loops.\n",
    "* You should use good programming style. Your reading mentions style rules and conventions throughout, and we will introduce you to more in the coming weeks. "
   ]
  },
  {
   "cell_type": "markdown",
   "metadata": {},
   "source": [
    "## Summary of Tasks\n",
    "\n",
    "These will all be done in this Jupyter Notebook (in the cells below). When you are done, go to File > Download As > Notebook.ipynb. Please name it with your last name and PS0, e.g., smithPS0.ipynb. Submit the file under the assignments option in bCourses.\n",
    "\n",
    "* Build `login_checker1`\n",
    "* Build `login_checker2` (Optional, but must be attempted.)\n",
    "* Build `login_checker3` (Strictly optional.)\n",
    "\n",
    "\n",
    "## Important Warning\n",
    "\n",
    "For each task, we provide some example interactions with the program that you can do in Jupyter. The program you submit should match these interactions *exactly*. We are looking for correctness, not creativity -- your submissions should behave in a manner identical to our examples. Even the punctuation marks should match perfectly. Do not add any extra\n",
    "spaces or other decorations or prompts. "
   ]
  },
  {
   "cell_type": "markdown",
   "metadata": {},
   "source": [
    "## Tasks\n",
    "\n",
    "## Task One: login_checker1.py\n",
    "\n",
    "Write a program that prompts the user for a username and a password, receives them as inputs from the user, and outputs each in a complete sentence.\n",
    "\n",
    "A sample interaction with your `login_checker1` program would appear as below. Input typed by the user is written in _italics_. Your program should read this data as user input - it should not print it as output.\n",
    "\n",
    "<pre>\n",
    "Username: <i>Larry</i>\n",
    "Password: <i>foo</i>\n",
    "Hi Larry! Your password is foo.\n",
    "</pre>\n",
    "\n",
    "Note that we should be able to give your program *any* name and password combination. It shouldn't work only with Larry/foo.\n",
    "\n",
    "<pre>\n",
    "Username: <i>Mary</i>\n",
    "Password: <i>bar</i>\n",
    "Hi Mary! Your password is bar.\n",
    "</pre>\n",
    "\n",
    "<pre>\n",
    "Username: <i>Barry</i>\n",
    "Password: <i>foo bar baz</i>\n",
    "Hi Barry! Your password is foo bar baz.\n",
    "</pre>\n",
    "\n",
    "Place the code that solves this task in a cell below.\n",
    "\n",
    "Hint one: To receive input from the user, use the `input()` function as described in Chapter 4 of the book (_Making Programs Interactive_).\n",
    "\n",
    "Hint two: You will need to build up the string-to-be-output as one multi-part string using concatenation. See Chapter 3\n",
    "(_Concatenation and Type Casting_) of the textbook for details. Then, use the `print()` command (Chapter 4, _Printing_) to print the string to the screen."
   ]
  },
  {
   "cell_type": "code",
   "execution_count": null,
   "metadata": {},
   "outputs": [],
   "source": [
    "# Put your answer to task 1 here. Feel free to insert more cells.\n"
   ]
  },
  {
   "cell_type": "markdown",
   "metadata": {},
   "source": [
    "## Task Two: login_checker2\n",
    "\n",
    "You should attempt to solve task two of this assignment, but do not fret if you cannot. Just allocate a set amount of time you have available (we suggest an hour or two) and see if you can come up with the solution.\n",
    "\n",
    "Write a program that prompts the user for a username and a password, receives each as inputs, tests whether the inputted username and password match a particular pre-specified combination, and outputs whether or not the password matches, i.e. whether access has been granted.\n",
    "\n",
    "For this task, the only username and password combination that should be matched are:\n",
    "\n",
    "Username | Password\n",
    "---|---\n",
    "Larry | coding_is_fun\n",
    "\n",
    "Various sample interactions with your `login_checker2` program would appear as below.\n",
    "\n",
    "<pre>\n",
    "Username: <i>Larry</i>\n",
    "Password: <i>foo</i>\n",
    "Access granted: False.\n",
    "</pre>\n",
    "\n",
    "<pre>\n",
    "Username: <i>Larry</i>\n",
    "Password: <i>coding_is_fun</i>\n",
    "Access granted: True.\n",
    "</pre>\n",
    "\n",
    "<pre>\n",
    "Username: <i>Mary</i>\n",
    "Password: <i>coding_is_fun</i>\n",
    "Access granted: False.\n",
    "</pre>\n",
    "\n",
    "<pre>\n",
    "Username: <i>Larry</i>\n",
    "Password: <i>coding is fun</i>\n",
    "Access granted: False.\n",
    "</pre>\n",
    "\n",
    "Note: If you have coded before, or if you have read ahead in the book, you might be tempted to solve this task using an `if` statement. You may not use `if` (or anything else that isn't included in Chapters 1 to 4 of the book) to solve this task.\n",
    "\n",
    "### Additional Hints for Task Two\n",
    "\n",
    "Because Task Two is significantly more difficult than Task One, here are some hints if you get stuck. Try to solve Task Two before you look at these.\n",
    "\n",
    "1. Remember that to test whether two expressions are equal in Python, use `==` (two equals signs). This returns a boolean value (i.e. `True` or `False`).\n",
    "2. You can save the output boolean value of an equality test to a variable for later use.\n",
    "3. You will need to use a compound boolean operator as described in Chapter 3 (_Compound Operators_) of the textbook. You can assign the output of a compound operator to another variable.\n",
    "4. You can print a boolean value directly using the `print()` command, but if you want to concatenate that value to a string, you need to cast that boolean value to the string type, as described in Chapter 4 (_Concatenation and Type Casting_) of the textbook.\n"
   ]
  },
  {
   "cell_type": "code",
   "execution_count": null,
   "metadata": {},
   "outputs": [],
   "source": [
    "# Put your code for task two here"
   ]
  },
  {
   "cell_type": "markdown",
   "metadata": {},
   "source": [
    "## Task Three: login_checker3\n",
    "\n",
    "The third task of this assignment is strictly optional. If you solved the first two tasks easily, are enjoying these tasks, or just want to challenge yourself further, then attempt this task, which is a small extension of Task Two.\n",
    "\n",
    "Write a program that prompts the user for a username and a password, receives them as inputs, tests whether the inputted username and password matches any one of *four* pre-specified combinations, and outputs whether or not access has been granted. The four username/password combinations your code should authenticate are:\n",
    "\n",
    "Username | Password\n",
    "--- | ---\n",
    "Larry | coding_is_fun\n",
    "Falken | Joshua\n",
    "Setec Astronomy | too many secrets\n",
    "Neo | False\n",
    "\n",
    "Various sample interactions with your `login_checker3` program would appear as below.\n",
    "\n",
    "<pre>\n",
    "Username: <b>Larry</b>\n",
    "Password: <b>foo</b>\n",
    "Access granted: False.\n",
    "</pre>\n",
    "\n",
    "<pre>\n",
    "Username: <b>Larry</b>\n",
    "Password: <b>coding_is_fun</b>\n",
    "Access granted: True.\n",
    "</pre>\n",
    "\n",
    "<pre>\n",
    "Username: <b>Falken</b>\n",
    "Password: <b>Joshua</b>\n",
    "Access granted: True.\n",
    "</pre>\n",
    "\n",
    "<pre>\n",
    "Username: <b>Neo</b>\n",
    "Password: <b>False</b>\n",
    "Access granted: True.\n",
    "</pre>\n",
    "\n",
    "<pre>\n",
    "Username: <b>Neo</b>\n",
    "Password: <b>too many secrets</b>\n",
    "Access granted: False.\n",
    "</pre>\n",
    "\n",
    "If you can solve this task, place your code in a file entitled login_checker3. Submit this file using Canvas. Even if you cannot come up with the solution, feel free to submit your answer using Canvas. Place a comment in Canvas attached to your submission letting us know that you didn't come up with the correct answer.\n",
    "\n",
    "Once again: do not use `if` to solve this.\n",
    "\n",
    "Hints? If you're going to solve Task Three, you're on your own. No hints for this one!"
   ]
  },
  {
   "cell_type": "code",
   "execution_count": null,
   "metadata": {},
   "outputs": [],
   "source": [
    "# Put your code for task 3 here\n",
    "\n"
   ]
  },
  {
   "cell_type": "markdown",
   "metadata": {},
   "source": [
    "## Self-Assessment\n",
    "\n",
    "Once you are done with this assignment, use this rough guide to conduct a self-assessment of your ability to thrive in this class. Although we doubt we calibrated the difficulty level of this assignment with precision, our goal was to make Task Three alone about as difficult as one-third of a typical problem set, given what you know at this stage in the semester. (Tasks One and Two are calibrated to be less difficult than one-third of a typical problem set.)\n",
    "\n",
    "If you found even Task One to be impossibly difficult, you might reconsider whether this is the course for you. That said, don't lose heart if you struggled but ultimately found the correct answer; remember that things will never seem as foreign to you as they do right now, and you will develop strategies for solving these tasks that you don't yet possess.\n",
    "\n",
    "Task Two is significantly more difficult than Task One, so if you had an easy time with the latter but struggled with the former, you probably have what it takes to do well in this course. However, be aware that you'll need to allocate sufficient\n",
    "(perhaps substantial) time each week to solve the problem sets in this class.\n",
    "\n",
    "If you breezed through all three tasks, you might be too experienced for this class. If you are not sure if you are eligible for this course, please contact the course faculty as soon as possible."
   ]
  },
  {
   "cell_type": "markdown",
   "metadata": {},
   "source": [
    "This exercise was developed by Jonathan Frankle (MIT) and Paul Ohm (GULC), 2018."
   ]
  },
  {
   "cell_type": "code",
   "execution_count": null,
   "metadata": {},
   "outputs": [],
   "source": []
  }
 ],
 "metadata": {
  "kernelspec": {
   "display_name": "Python 3",
   "language": "python",
   "name": "python3"
  },
  "language_info": {
   "codemirror_mode": {
    "name": "ipython",
    "version": 3
   },
   "file_extension": ".py",
   "mimetype": "text/x-python",
   "name": "python",
   "nbconvert_exporter": "python",
   "pygments_lexer": "ipython3",
   "version": "3.8.5"
  }
 },
 "nbformat": 4,
 "nbformat_minor": 4
}
