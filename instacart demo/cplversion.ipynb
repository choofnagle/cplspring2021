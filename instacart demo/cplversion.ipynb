{
 "cells": [
  {
   "cell_type": "markdown",
   "metadata": {},
   "source": [
    "# Commercial Uses of Data -- CPL Version\n",
    "\n",
    "### Background\n",
    "In 2017, Instacart publicly released an anonymized dataset consisting of over 3 million Instacart orders with information from what was purchased and by whom (user ids) and when in the day and week purchases were made. Many retailers, including grocery stores, sell data to data brokers in order to better profile consumers.\n",
    " \n",
    "### Assignment\n",
    "**Using Instacart’s data, try to profile consumers and specific groups within the dataset. For a couple of options, you could try to find a particular demographic, such as millennials, or a group a health insurance company might deem as high-risk.** Included is example analysis code that starts off by pinpointing users who have ordered any kind of potato chips in more than 50% of their orders. \n",
    "\n",
    "You're free to use whatever tools you're comfortable with. [`pandas`](https://pandas.pydata.org/pandas-docs/stable/tutorials.html) is a great library intended for fast data analysis and manipulation of large volumes; however, in this notebook, the included example of data analysis uses Berkeley's [`datascience`](http://data8.org/datascience/) module. \n",
    "\n",
    "To help clarify the content of the data, the Instacart data dictionary can be found [here](https://gist.github.com/jeremystan/c3b39d947d9b88b3ccff3147dbcf6c6b). It will be extremely useful in helping you understand the data you are working with -- it gives a description of each column for each of the tables.\n",
    "\n",
    "\n",
    "### More Details\n",
    "The CSVs within `instacart_data` folder can be opened with a [`table.read_table`](http://data8.org/datascience/_autosummary/datascience.tables.Table.read_table.html) method. Examples on how to do so are below.  \n",
    "\n",
    "Here is a brief description of some elements of the more confusing (and larger!) CSVs:\n",
    "\n",
    "`orders_subset` - Each row represents one order or trip to the grocery store. `order_number` refers to whether the order was the user’s first or fifteenth. `order_dow` refers to the day of week the order was placed with Saturday as 0 and Sunday as 1. This CSV contains a subset of the original data. \n",
    "\n",
    "`order_products__prior_subset` - Each row represents one product in an order. `add_to_cart_order` refers to the order in which the product was added to the cart. \n",
    "\n",
    "On data integrity, `order_products__prior_subset` holds the data of the subset of users found in `orders_subset`. `orders_subset` has unaltered data for 10% of the unique users found in the original `orders` CSV file. Original data can be downloaded [here](https://www.instacart.com/datasets/grocery-shopping-2017). \n",
    "\n",
    "### Caveat\n",
    "When analyzing the data, especially with a large dataset, be sure to *filter* as much as possible the individual dataframes and then join as needed. In addition, when checking out what each CSV looks like, it’s recommended to use the **`show`** method, rather than loading the entire table — this might crash your notebook (e.g. `table.show(5)`). Note to run terminal commands such as *head* in Jupyter notebook, attach an exclamation point as a prefix to the command (e.g. `!head file.csv`)\n",
    "\n",
    "### To help get you going...The following box is a \"cell.\" \n",
    "\n",
    "You can cause Jupyter to execute its commands by selecting it (a blue frame will appear around it) and clicking the Run button.\n"
   ]
  },
  {
   "cell_type": "code",
   "execution_count": 1,
   "metadata": {},
   "outputs": [],
   "source": [
    "# importing the packages that we'll need for \n",
    "# our most basic functionality\n",
    "from datascience import *\n",
    "import pandas as pd \n",
    "import numpy as np\n",
    "\n",
    "import matplotlib.pyplot as plt\n",
    "plt.style.use('ggplot')\n",
    "%matplotlib inline\n",
    "\n",
    "# Import other libraries you would like to use below\n"
   ]
  },
  {
   "cell_type": "markdown",
   "metadata": {},
   "source": [
    "The previous cell loaded the different libraries that Python needs in order to do our analysis. Now that they have been loaded, we can use the 'head' command.\n",
    "\n",
    "Select the cell below and click run. It will show the \"head\" of the file `products.csv`.\n",
    "\n",
    "You can also pass options to head by altering the cell. Edit the cell by double clicking it. The frame will turn from blue to green. Then just add -n 20 after !head so that it reads !head -n 20 instacart_data/products.csv\n",
    "\n",
    "This will increase the number of lines displayed from 10 to 20."
   ]
  },
  {
   "cell_type": "code",
   "execution_count": 3,
   "metadata": {},
   "outputs": [
    {
     "name": "stdout",
     "output_type": "stream",
     "text": [
      "product_id,product_name,aisle_id,department_id\r\n",
      "1,Chocolate Sandwich Cookies,61,19\r\n",
      "2,All-Seasons Salt,104,13\r\n",
      "3,Robust Golden Unsweetened Oolong Tea,94,7\r\n",
      "4,Smart Ones Classic Favorites Mini Rigatoni With Vodka Cream Sauce,38,1\r\n",
      "5,Green Chile Anytime Sauce,5,13\r\n",
      "6,Dry Nose Oil,11,11\r\n",
      "7,Pure Coconut Water With Orange,98,7\r\n",
      "8,Cut Russet Potatoes Steam N' Mash,116,1\r\n",
      "9,Light Strawberry Blueberry Yogurt,120,16\r\n",
      "10,Sparkling Orange Juice & Prickly Pear Beverage,115,7\r\n",
      "11,Peach Mango Juice,31,7\r\n",
      "12,Chocolate Fudge Layer Cake,119,1\r\n",
      "13,Saline Nasal Mist,11,11\r\n",
      "14,Fresh Scent Dishwasher Cleaner,74,17\r\n",
      "15,Overnight Diapers Size 6,56,18\r\n",
      "16,Mint Chocolate Flavored Syrup,103,19\r\n",
      "17,Rendered Duck Fat,35,12\r\n",
      "18,Pizza for One Suprema  Frozen Pizza,79,1\r\n",
      "19,Gluten Free Quinoa Three Cheese & Mushroom Blend,63,9\r\n",
      "20,Pomegranate Cranberry & Aloe Vera Enrich Drink,98,7\r\n",
      "21,Small & Medium Dental Dog Treats,40,8\r\n",
      "22,Fresh Breath Oral Rinse Mild Mint,20,11\r\n",
      "23,Organic Turkey Burgers,49,12\r\n",
      "24,Tri-Vi-Sol® Vitamins A-C-and D Supplement Drops for Infants,47,11\r\n"
     ]
    }
   ],
   "source": [
    "!head -n 25 instacart_data/products.csv"
   ]
  },
  {
   "cell_type": "markdown",
   "metadata": {},
   "source": [
    "Next we read in some of the csv's and store them as `Table` objects from the `datascience` package. This will incorporate more datasets for our exercise."
   ]
  },
  {
   "cell_type": "code",
   "execution_count": 4,
   "metadata": {},
   "outputs": [],
   "source": [
    "# Run this cell to open and read in some data files within instacart_data\n",
    "orders = Table().read_table('instacart_data/orders_subset.csv')\n",
    "orders_products = Table().read_table('instacart_data/order_products__prior_subset.csv')\n",
    "products = Table().read_table('instacart_data/products.csv')"
   ]
  },
  {
   "cell_type": "markdown",
   "metadata": {},
   "source": [
    "To take a peek at the data stored in the table, we can use the `.show(n)` method on the table, where `n` is the number of rows that you want to display."
   ]
  },
  {
   "cell_type": "code",
   "execution_count": 5,
   "metadata": {},
   "outputs": [
    {
     "data": {
      "text/html": [
       "<table border=\"1\" class=\"dataframe\">\n",
       "    <thead>\n",
       "        <tr>\n",
       "            <th>product_id</th> <th>product_name</th> <th>aisle_id</th> <th>department_id</th>\n",
       "        </tr>\n",
       "    </thead>\n",
       "    <tbody>\n",
       "        <tr>\n",
       "            <td>1         </td> <td>Chocolate Sandwich Cookies                                  </td> <td>61      </td> <td>19           </td>\n",
       "        </tr>\n",
       "        <tr>\n",
       "            <td>2         </td> <td>All-Seasons Salt                                            </td> <td>104     </td> <td>13           </td>\n",
       "        </tr>\n",
       "        <tr>\n",
       "            <td>3         </td> <td>Robust Golden Unsweetened Oolong Tea                        </td> <td>94      </td> <td>7            </td>\n",
       "        </tr>\n",
       "        <tr>\n",
       "            <td>4         </td> <td>Smart Ones Classic Favorites Mini Rigatoni With Vodka Cr ...</td> <td>38      </td> <td>1            </td>\n",
       "        </tr>\n",
       "        <tr>\n",
       "            <td>5         </td> <td>Green Chile Anytime Sauce                                   </td> <td>5       </td> <td>13           </td>\n",
       "        </tr>\n",
       "        <tr>\n",
       "            <td>6         </td> <td>Dry Nose Oil                                                </td> <td>11      </td> <td>11           </td>\n",
       "        </tr>\n",
       "        <tr>\n",
       "            <td>7         </td> <td>Pure Coconut Water With Orange                              </td> <td>98      </td> <td>7            </td>\n",
       "        </tr>\n",
       "        <tr>\n",
       "            <td>8         </td> <td>Cut Russet Potatoes Steam N' Mash                           </td> <td>116     </td> <td>1            </td>\n",
       "        </tr>\n",
       "        <tr>\n",
       "            <td>9         </td> <td>Light Strawberry Blueberry Yogurt                           </td> <td>120     </td> <td>16           </td>\n",
       "        </tr>\n",
       "        <tr>\n",
       "            <td>10        </td> <td>Sparkling Orange Juice & Prickly Pear Beverage              </td> <td>115     </td> <td>7            </td>\n",
       "        </tr>\n",
       "        <tr>\n",
       "            <td>11        </td> <td>Peach Mango Juice                                           </td> <td>31      </td> <td>7            </td>\n",
       "        </tr>\n",
       "        <tr>\n",
       "            <td>12        </td> <td>Chocolate Fudge Layer Cake                                  </td> <td>119     </td> <td>1            </td>\n",
       "        </tr>\n",
       "        <tr>\n",
       "            <td>13        </td> <td>Saline Nasal Mist                                           </td> <td>11      </td> <td>11           </td>\n",
       "        </tr>\n",
       "        <tr>\n",
       "            <td>14        </td> <td>Fresh Scent Dishwasher Cleaner                              </td> <td>74      </td> <td>17           </td>\n",
       "        </tr>\n",
       "        <tr>\n",
       "            <td>15        </td> <td>Overnight Diapers Size 6                                    </td> <td>56      </td> <td>18           </td>\n",
       "        </tr>\n",
       "        <tr>\n",
       "            <td>16        </td> <td>Mint Chocolate Flavored Syrup                               </td> <td>103     </td> <td>19           </td>\n",
       "        </tr>\n",
       "        <tr>\n",
       "            <td>17        </td> <td>Rendered Duck Fat                                           </td> <td>35      </td> <td>12           </td>\n",
       "        </tr>\n",
       "        <tr>\n",
       "            <td>18        </td> <td>Pizza for One Suprema  Frozen Pizza                         </td> <td>79      </td> <td>1            </td>\n",
       "        </tr>\n",
       "        <tr>\n",
       "            <td>19        </td> <td>Gluten Free Quinoa Three Cheese & Mushroom Blend            </td> <td>63      </td> <td>9            </td>\n",
       "        </tr>\n",
       "        <tr>\n",
       "            <td>20        </td> <td>Pomegranate Cranberry & Aloe Vera Enrich Drink              </td> <td>98      </td> <td>7            </td>\n",
       "        </tr>\n",
       "        <tr>\n",
       "            <td>21        </td> <td>Small & Medium Dental Dog Treats                            </td> <td>40      </td> <td>8            </td>\n",
       "        </tr>\n",
       "        <tr>\n",
       "            <td>22        </td> <td>Fresh Breath Oral Rinse Mild Mint                           </td> <td>20      </td> <td>11           </td>\n",
       "        </tr>\n",
       "        <tr>\n",
       "            <td>23        </td> <td>Organic Turkey Burgers                                      </td> <td>49      </td> <td>12           </td>\n",
       "        </tr>\n",
       "        <tr>\n",
       "            <td>24        </td> <td>Tri-Vi-Sol® Vitamins A-C-and D Supplement Drops for Infants </td> <td>47      </td> <td>11           </td>\n",
       "        </tr>\n",
       "        <tr>\n",
       "            <td>25        </td> <td>Salted Caramel Lean Protein & Fiber Bar                     </td> <td>3       </td> <td>19           </td>\n",
       "        </tr>\n",
       "        <tr>\n",
       "            <td>26        </td> <td>Fancy Feast Trout Feast Flaked Wet Cat Food                 </td> <td>41      </td> <td>8            </td>\n",
       "        </tr>\n",
       "        <tr>\n",
       "            <td>27        </td> <td>Complete Spring Water Foaming Antibacterial Hand Wash       </td> <td>127     </td> <td>11           </td>\n",
       "        </tr>\n",
       "        <tr>\n",
       "            <td>28        </td> <td>Wheat Chex Cereal                                           </td> <td>121     </td> <td>14           </td>\n",
       "        </tr>\n",
       "        <tr>\n",
       "            <td>29        </td> <td>Fresh Cut Golden Sweet No Salt Added Whole Kernel Corn      </td> <td>81      </td> <td>15           </td>\n",
       "        </tr>\n",
       "        <tr>\n",
       "            <td>30        </td> <td>Three Cheese Ziti, Marinara with Meatballs                  </td> <td>38      </td> <td>1            </td>\n",
       "        </tr>\n",
       "        <tr>\n",
       "            <td>31        </td> <td>White Pearl Onions                                          </td> <td>123     </td> <td>4            </td>\n",
       "        </tr>\n",
       "        <tr>\n",
       "            <td>32        </td> <td>Nacho Cheese White Bean Chips                               </td> <td>107     </td> <td>19           </td>\n",
       "        </tr>\n",
       "        <tr>\n",
       "            <td>33        </td> <td>Organic Spaghetti Style Pasta                               </td> <td>131     </td> <td>9            </td>\n",
       "        </tr>\n",
       "        <tr>\n",
       "            <td>34        </td> <td>Peanut Butter Cereal                                        </td> <td>121     </td> <td>14           </td>\n",
       "        </tr>\n",
       "        <tr>\n",
       "            <td>35        </td> <td>Italian Herb Porcini Mushrooms Chicken Sausage              </td> <td>106     </td> <td>12           </td>\n",
       "        </tr>\n",
       "        <tr>\n",
       "            <td>36        </td> <td>Traditional Lasagna with Meat Sauce Savory Italian Recipes  </td> <td>38      </td> <td>1            </td>\n",
       "        </tr>\n",
       "        <tr>\n",
       "            <td>37        </td> <td>Noodle Soup Mix With Chicken Broth                          </td> <td>69      </td> <td>15           </td>\n",
       "        </tr>\n",
       "        <tr>\n",
       "            <td>38        </td> <td>Ultra Antibacterial Dish Liquid                             </td> <td>100     </td> <td>21           </td>\n",
       "        </tr>\n",
       "        <tr>\n",
       "            <td>39        </td> <td>Daily Tangerine Citrus Flavored Beverage                    </td> <td>64      </td> <td>7            </td>\n",
       "        </tr>\n",
       "        <tr>\n",
       "            <td>40        </td> <td>Beef Hot Links Beef Smoked Sausage With Chile Peppers       </td> <td>106     </td> <td>12           </td>\n",
       "        </tr>\n",
       "        <tr>\n",
       "            <td>41        </td> <td>Organic Sourdough Einkorn Crackers Rosemary                 </td> <td>78      </td> <td>19           </td>\n",
       "        </tr>\n",
       "        <tr>\n",
       "            <td>42        </td> <td>Biotin 1000 mcg                                             </td> <td>47      </td> <td>11           </td>\n",
       "        </tr>\n",
       "        <tr>\n",
       "            <td>43        </td> <td>Organic Clementines                                         </td> <td>123     </td> <td>4            </td>\n",
       "        </tr>\n",
       "        <tr>\n",
       "            <td>44        </td> <td>Sparkling Raspberry Seltzer                                 </td> <td>115     </td> <td>7            </td>\n",
       "        </tr>\n",
       "        <tr>\n",
       "            <td>45        </td> <td>European Cucumber                                           </td> <td>83      </td> <td>4            </td>\n",
       "        </tr>\n",
       "        <tr>\n",
       "            <td>46        </td> <td>Raisin Cinnamon Bagels 5 count                              </td> <td>58      </td> <td>1            </td>\n",
       "        </tr>\n",
       "        <tr>\n",
       "            <td>47        </td> <td>Onion Flavor Organic Roasted Seaweed Snack                  </td> <td>66      </td> <td>6            </td>\n",
       "        </tr>\n",
       "        <tr>\n",
       "            <td>48        </td> <td>School Glue, Washable, No Run                               </td> <td>87      </td> <td>17           </td>\n",
       "        </tr>\n",
       "        <tr>\n",
       "            <td>49        </td> <td>Vegetarian Grain Meat Sausages Italian - 4 CT               </td> <td>14      </td> <td>20           </td>\n",
       "        </tr>\n",
       "        <tr>\n",
       "            <td>50        </td> <td>Pumpkin Muffin Mix                                          </td> <td>105     </td> <td>13           </td>\n",
       "        </tr>\n",
       "        <tr>\n",
       "            <td>51        </td> <td>Sa Extra Hold Mousse Hair Styling                           </td> <td>22      </td> <td>11           </td>\n",
       "        </tr>\n",
       "        <tr>\n",
       "            <td>52        </td> <td>Mirabelle Brut Rose                                         </td> <td>134     </td> <td>5            </td>\n",
       "        </tr>\n",
       "        <tr>\n",
       "            <td>53        </td> <td>Whole Leaf Pure Aloe With Lemon Juice                       </td> <td>98      </td> <td>7            </td>\n",
       "        </tr>\n",
       "        <tr>\n",
       "            <td>54        </td> <td>24/7 Performance Cat Litter                                 </td> <td>41      </td> <td>8            </td>\n",
       "        </tr>\n",
       "        <tr>\n",
       "            <td>55        </td> <td>Lasting Color Shampoo                                       </td> <td>22      </td> <td>11           </td>\n",
       "        </tr>\n",
       "        <tr>\n",
       "            <td>56        </td> <td>Healthy Pop Butter Popcorn                                  </td> <td>23      </td> <td>19           </td>\n",
       "        </tr>\n",
       "        <tr>\n",
       "            <td>57        </td> <td>Flat Toothpicks                                             </td> <td>111     </td> <td>17           </td>\n",
       "        </tr>\n",
       "        <tr>\n",
       "            <td>58        </td> <td>Whole Wheat Tortillas                                       </td> <td>128     </td> <td>3            </td>\n",
       "        </tr>\n",
       "        <tr>\n",
       "            <td>59        </td> <td>Medium Taqueria Style Chipotle Salsa                        </td> <td>50      </td> <td>19           </td>\n",
       "        </tr>\n",
       "        <tr>\n",
       "            <td>60        </td> <td>Cheesy Creations Roasted Garlic Parmesan Sauce              </td> <td>9       </td> <td>9            </td>\n",
       "        </tr>\n",
       "        <tr>\n",
       "            <td>61        </td> <td>Ramen Noodles Soup Chicken Mushroom Flavor                  </td> <td>69      </td> <td>15           </td>\n",
       "        </tr>\n",
       "        <tr>\n",
       "            <td>62        </td> <td>Premium Deli Oven Roasted Turkey Breast                     </td> <td>96      </td> <td>20           </td>\n",
       "        </tr>\n",
       "        <tr>\n",
       "            <td>63        </td> <td>Banana & Sweet Potato Organic Teething Wafers               </td> <td>92      </td> <td>18           </td>\n",
       "        </tr>\n",
       "        <tr>\n",
       "            <td>64        </td> <td>Autumn Vegetable & Turkey Dinner with Lil' Bits Purees D ...</td> <td>92      </td> <td>18           </td>\n",
       "        </tr>\n",
       "        <tr>\n",
       "            <td>65        </td> <td>Organic Red Wine & Olive Oil Dressing Organic               </td> <td>89      </td> <td>13           </td>\n",
       "        </tr>\n",
       "        <tr>\n",
       "            <td>66        </td> <td>European Style Spring Mix                                   </td> <td>123     </td> <td>4            </td>\n",
       "        </tr>\n",
       "        <tr>\n",
       "            <td>67        </td> <td>Jelly, Blackberry                                           </td> <td>88      </td> <td>13           </td>\n",
       "        </tr>\n",
       "        <tr>\n",
       "            <td>68        </td> <td>Pancake Mix, Buttermilk                                     </td> <td>130     </td> <td>14           </td>\n",
       "        </tr>\n",
       "        <tr>\n",
       "            <td>69        </td> <td>Vanilla with Almond Milk Iced Coffee                        </td> <td>26      </td> <td>7            </td>\n",
       "        </tr>\n",
       "        <tr>\n",
       "            <td>70        </td> <td>Sweet Cooking Rice Seasoning                                </td> <td>66      </td> <td>6            </td>\n",
       "        </tr>\n",
       "        <tr>\n",
       "            <td>71        </td> <td>Ultra 7 Inch Polypropylene Traditional Plates               </td> <td>111     </td> <td>17           </td>\n",
       "        </tr>\n",
       "        <tr>\n",
       "            <td>72        </td> <td>Organic Honeycrisp Apples                                   </td> <td>100     </td> <td>21           </td>\n",
       "        </tr>\n",
       "        <tr>\n",
       "            <td>73        </td> <td>Jasmine Tea Unfiltered Ginger Ale                           </td> <td>77      </td> <td>7            </td>\n",
       "        </tr>\n",
       "        <tr>\n",
       "            <td>74        </td> <td>Artisan Chick'n & Apple Sausage                             </td> <td>14      </td> <td>20           </td>\n",
       "        </tr>\n",
       "        <tr>\n",
       "            <td>75        </td> <td>Hemp Protein, Organic                                       </td> <td>65      </td> <td>11           </td>\n",
       "        </tr>\n",
       "        <tr>\n",
       "            <td>76        </td> <td>Spinach Basil Garlic Linguini                               </td> <td>12      </td> <td>9            </td>\n",
       "        </tr>\n",
       "        <tr>\n",
       "            <td>77        </td> <td>Coconut Chocolate Chip Energy Bar                           </td> <td>3       </td> <td>19           </td>\n",
       "        </tr>\n",
       "        <tr>\n",
       "            <td>78        </td> <td>Nutter Butter Cookie Bites Go-Pak                           </td> <td>61      </td> <td>19           </td>\n",
       "        </tr>\n",
       "        <tr>\n",
       "            <td>79        </td> <td>Wild Albacore Tuna No Salt Added                            </td> <td>95      </td> <td>15           </td>\n",
       "        </tr>\n",
       "        <tr>\n",
       "            <td>80        </td> <td>French  Tarragon Wine Vinegar                               </td> <td>19      </td> <td>13           </td>\n",
       "        </tr>\n",
       "        <tr>\n",
       "            <td>81        </td> <td>Blakes Chicken Parmesan Dinner                              </td> <td>38      </td> <td>1            </td>\n",
       "        </tr>\n",
       "        <tr>\n",
       "            <td>82        </td> <td>All Natural 100% Apple Juice                                </td> <td>98      </td> <td>7            </td>\n",
       "        </tr>\n",
       "        <tr>\n",
       "            <td>83        </td> <td>100% Whole Wheat Pita Bread                                 </td> <td>128     </td> <td>3            </td>\n",
       "        </tr>\n",
       "        <tr>\n",
       "            <td>84        </td> <td>Lamb Shank                                                  </td> <td>7       </td> <td>12           </td>\n",
       "        </tr>\n",
       "        <tr>\n",
       "            <td>85        </td> <td>Soppressata Piccante                                        </td> <td>96      </td> <td>20           </td>\n",
       "        </tr>\n",
       "        <tr>\n",
       "            <td>86        </td> <td>Camilia, Single Liquid Doses                                </td> <td>6       </td> <td>2            </td>\n",
       "        </tr>\n",
       "        <tr>\n",
       "            <td>87        </td> <td>Classics Earl Grey Tea                                      </td> <td>94      </td> <td>7            </td>\n",
       "        </tr>\n",
       "        <tr>\n",
       "            <td>88        </td> <td>Probiotics High Potency Capsules                            </td> <td>47      </td> <td>11           </td>\n",
       "        </tr>\n",
       "        <tr>\n",
       "            <td>89        </td> <td>Yogurt Fruit Dip Sliced Apples                              </td> <td>123     </td> <td>4            </td>\n",
       "        </tr>\n",
       "        <tr>\n",
       "            <td>90        </td> <td>Smorz Cereal                                                </td> <td>121     </td> <td>14           </td>\n",
       "        </tr>\n",
       "        <tr>\n",
       "            <td>91        </td> <td>Kind Prenatal Once Daily                                    </td> <td>47      </td> <td>11           </td>\n",
       "        </tr>\n",
       "        <tr>\n",
       "            <td>92        </td> <td>Meat In The Middle Large Rawhide Chews                      </td> <td>40      </td> <td>8            </td>\n",
       "        </tr>\n",
       "        <tr>\n",
       "            <td>93        </td> <td>Uncured Cracked Pepper Beef                                 </td> <td>23      </td> <td>19           </td>\n",
       "        </tr>\n",
       "        <tr>\n",
       "            <td>94        </td> <td>Organic Blueberry Blitz Fruit & Veggie Smoothie Mashups     </td> <td>92      </td> <td>18           </td>\n",
       "        </tr>\n",
       "        <tr>\n",
       "            <td>95        </td> <td>Organic Rice Vinegar                                        </td> <td>66      </td> <td>6            </td>\n",
       "        </tr>\n",
       "        <tr>\n",
       "            <td>96        </td> <td>Sprinklez Confetti Fun Organic Toppings                     </td> <td>97      </td> <td>13           </td>\n",
       "        </tr>\n",
       "        <tr>\n",
       "            <td>97        </td> <td>Organic Chamomile Lemon Tea                                 </td> <td>94      </td> <td>7            </td>\n",
       "        </tr>\n",
       "        <tr>\n",
       "            <td>98        </td> <td>2% Yellow American Cheese                                   </td> <td>2       </td> <td>16           </td>\n",
       "        </tr>\n",
       "        <tr>\n",
       "            <td>99        </td> <td>Local Living Butter Lettuce                                 </td> <td>83      </td> <td>4            </td>\n",
       "        </tr>\n",
       "        <tr>\n",
       "            <td>100       </td> <td>Peanut Butter & Strawberry Jam Sandwich                     </td> <td>38      </td> <td>1            </td>\n",
       "        </tr>\n",
       "        <tr>\n",
       "            <td>101       </td> <td>Bread, Healthy Whole Grain                                  </td> <td>112     </td> <td>3            </td>\n",
       "        </tr>\n",
       "        <tr>\n",
       "            <td>102       </td> <td>Danish Butter Cookies                                       </td> <td>61      </td> <td>19           </td>\n",
       "        </tr>\n",
       "        <tr>\n",
       "            <td>103       </td> <td>Sprouted Kale Cracker                                       </td> <td>78      </td> <td>19           </td>\n",
       "        </tr>\n",
       "        <tr>\n",
       "            <td>104       </td> <td>High Fiber Tomato Basil Soup                                </td> <td>69      </td> <td>15           </td>\n",
       "        </tr>\n",
       "        <tr>\n",
       "            <td>105       </td> <td>Easy Grab 9\\\"x13\\\" Oblong Glass Bakeware                    </td> <td>10      </td> <td>17           </td>\n",
       "        </tr>\n",
       "        <tr>\n",
       "            <td>106       </td> <td>Organic Yummy Tummy Maple & Brown Sugar Instant Oatmeal     </td> <td>92      </td> <td>18           </td>\n",
       "        </tr>\n",
       "        <tr>\n",
       "            <td>107       </td> <td>Mild Salsa Divino                                           </td> <td>51      </td> <td>13           </td>\n",
       "        </tr>\n",
       "        <tr>\n",
       "            <td>108       </td> <td>Organic Sprouted Barley Bread                               </td> <td>112     </td> <td>3            </td>\n",
       "        </tr>\n",
       "        <tr>\n",
       "            <td>109       </td> <td>Grape Leaf Hummus Wrap                                      </td> <td>13      </td> <td>20           </td>\n",
       "        </tr>\n",
       "        <tr>\n",
       "            <td>110       </td> <td>Uncured Turkey Bologna                                      </td> <td>100     </td> <td>21           </td>\n",
       "        </tr>\n",
       "        <tr>\n",
       "            <td>111       </td> <td>Fabric Softener, Geranium Scent                             </td> <td>75      </td> <td>17           </td>\n",
       "        </tr>\n",
       "        <tr>\n",
       "            <td>112       </td> <td>Hot Tomatillo Salsa                                         </td> <td>51      </td> <td>13           </td>\n",
       "        </tr>\n",
       "        <tr>\n",
       "            <td>113       </td> <td>Infant's Blend Probiotic                                    </td> <td>70      </td> <td>11           </td>\n",
       "        </tr>\n",
       "        <tr>\n",
       "            <td>114       </td> <td>Light Savory Beef Barley Vegetable Soup                     </td> <td>69      </td> <td>15           </td>\n",
       "        </tr>\n",
       "        <tr>\n",
       "            <td>115       </td> <td>Scooby-Doo! Fruit Flavored Snacks                           </td> <td>50      </td> <td>19           </td>\n",
       "        </tr>\n",
       "        <tr>\n",
       "            <td>116       </td> <td>English Muffins                                             </td> <td>93      </td> <td>3            </td>\n",
       "        </tr>\n",
       "        <tr>\n",
       "            <td>117       </td> <td>Petit Suisse Fruit                                          </td> <td>2       </td> <td>16           </td>\n",
       "        </tr>\n",
       "        <tr>\n",
       "            <td>118       </td> <td>Ground Turkey Chub                                          </td> <td>34      </td> <td>1            </td>\n",
       "        </tr>\n",
       "        <tr>\n",
       "            <td>119       </td> <td>Chardonnay Paso Robles                                      </td> <td>62      </td> <td>5            </td>\n",
       "        </tr>\n",
       "        <tr>\n",
       "            <td>120       </td> <td>Cauliflower Florettes                                       </td> <td>123     </td> <td>4            </td>\n",
       "        </tr>\n",
       "    </tbody>\n",
       "</table>\n",
       "<p>... (49568 rows omitted)</p>"
      ],
      "text/plain": [
       "<IPython.core.display.HTML object>"
      ]
     },
     "metadata": {},
     "output_type": "display_data"
    }
   ],
   "source": [
    "# Taking a small look into the first four rows of products -- highly recommended to use .show for large tables \n",
    "products.show(120)"
   ]
  },
  {
   "cell_type": "markdown",
   "metadata": {
    "collapsed": true
   },
   "source": [
    "### Analysis Example\n",
    "\n",
    "To start with, the example seeks to find the group of Instacart users who've bought potato chips consistently. In this particular context, consistently is defined as more than 50% of a user's orders have potato chips in the cart. Using this potato-chip loving crowd, the example will then try to discover more interesting characteristics shared amongst the crowd in order to further profile and target the group. \n",
    "\n",
    "The `Table` method [`.where`](http://data8.org/datascience/_autosummary/datascience.tables.Table.where.html) is going to be extremely helpful in teasing out subsets of data. It is the primary way of filtering in `datascience`."
   ]
  },
  {
   "cell_type": "code",
   "execution_count": 6,
   "metadata": {},
   "outputs": [
    {
     "data": {
      "text/html": [
       "<table border=\"1\" class=\"dataframe\">\n",
       "    <thead>\n",
       "        <tr>\n",
       "            <th>product_id</th> <th>product_name</th> <th>aisle_id</th> <th>department_id</th>\n",
       "        </tr>\n",
       "    </thead>\n",
       "    <tbody>\n",
       "        <tr>\n",
       "            <td>1         </td> <td>Chocolate Sandwich Cookies                 </td> <td>61      </td> <td>19           </td>\n",
       "        </tr>\n",
       "        <tr>\n",
       "            <td>16        </td> <td>Mint Chocolate Flavored Syrup              </td> <td>103     </td> <td>19           </td>\n",
       "        </tr>\n",
       "        <tr>\n",
       "            <td>25        </td> <td>Salted Caramel Lean Protein & Fiber Bar    </td> <td>3       </td> <td>19           </td>\n",
       "        </tr>\n",
       "        <tr>\n",
       "            <td>32        </td> <td>Nacho Cheese White Bean Chips              </td> <td>107     </td> <td>19           </td>\n",
       "        </tr>\n",
       "        <tr>\n",
       "            <td>41        </td> <td>Organic Sourdough Einkorn Crackers Rosemary</td> <td>78      </td> <td>19           </td>\n",
       "        </tr>\n",
       "        <tr>\n",
       "            <td>56        </td> <td>Healthy Pop Butter Popcorn                 </td> <td>23      </td> <td>19           </td>\n",
       "        </tr>\n",
       "        <tr>\n",
       "            <td>59        </td> <td>Medium Taqueria Style Chipotle Salsa       </td> <td>50      </td> <td>19           </td>\n",
       "        </tr>\n",
       "        <tr>\n",
       "            <td>77        </td> <td>Coconut Chocolate Chip Energy Bar          </td> <td>3       </td> <td>19           </td>\n",
       "        </tr>\n",
       "        <tr>\n",
       "            <td>78        </td> <td>Nutter Butter Cookie Bites Go-Pak          </td> <td>61      </td> <td>19           </td>\n",
       "        </tr>\n",
       "        <tr>\n",
       "            <td>93        </td> <td>Uncured Cracked Pepper Beef                </td> <td>23      </td> <td>19           </td>\n",
       "        </tr>\n",
       "    </tbody>\n",
       "</table>\n",
       "<p>... (6254 rows omitted)</p>"
      ],
      "text/plain": [
       "product_id | product_name                                | aisle_id | department_id\n",
       "1          | Chocolate Sandwich Cookies                  | 61       | 19\n",
       "16         | Mint Chocolate Flavored Syrup               | 103      | 19\n",
       "25         | Salted Caramel Lean Protein & Fiber Bar     | 3        | 19\n",
       "32         | Nacho Cheese White Bean Chips               | 107      | 19\n",
       "41         | Organic Sourdough Einkorn Crackers Rosemary | 78       | 19\n",
       "56         | Healthy Pop Butter Popcorn                  | 23       | 19\n",
       "59         | Medium Taqueria Style Chipotle Salsa        | 50       | 19\n",
       "77         | Coconut Chocolate Chip Energy Bar           | 3        | 19\n",
       "78         | Nutter Butter Cookie Bites Go-Pak           | 61       | 19\n",
       "93         | Uncured Cracked Pepper Beef                 | 23       | 19\n",
       "... (6254 rows omitted)"
      ]
     },
     "execution_count": 6,
     "metadata": {},
     "output_type": "execute_result"
    }
   ],
   "source": [
    "# Filtering products to just show products that fit into the category of snacks \n",
    "snacks = products.where('department_id', 19) # Why 19? How did I know that snacks are located in department 19? \n",
    "snacks"
   ]
  },
  {
   "cell_type": "markdown",
   "metadata": {},
   "source": [
    "The function in the following code cell filters the products table for products with names with specific phrases in them. To use the method, call the method with a case-insensitive string such as 'potato chips' and a table that contains at least the `product_name` column. The table could be products or another table filtered from products.\n",
    "\n",
    "The function returns a table that shows products with the phrase in its name. If the table is empty, then perhaps\n",
    "the phrase given was too specific. Consider trying the method again with a more general phrase. \n",
    "\n",
    "Examples of using the method:\n",
    "\n",
    "    apple_sauce = find_products_by_phrase('apple sauce', products)\n",
    "    toilet_paper = find_products_by_phrase('toilet paper', products)"
   ]
  },
  {
   "cell_type": "code",
   "execution_count": 7,
   "metadata": {},
   "outputs": [],
   "source": [
    "def find_products_by_phrase(phrase, table):\n",
    "    if type(phrase) != str:\n",
    "        print(\"Make sure that the phrase has either single or double quotes around it!\")\n",
    "    if 'product_name' not in table.labels:\n",
    "        print(\"Make sure that the table has a column exactly named product_name!\")\n",
    "    return table.where('product_name', lambda x: True if x.lower().find(phrase) != -1 else False)"
   ]
  },
  {
   "cell_type": "code",
   "execution_count": 9,
   "metadata": {},
   "outputs": [
    {
     "data": {
      "text/html": [
       "<table border=\"1\" class=\"dataframe\">\n",
       "    <thead>\n",
       "        <tr>\n",
       "            <th>product_id</th> <th>product_name</th> <th>aisle_id</th> <th>department_id</th>\n",
       "        </tr>\n",
       "    </thead>\n",
       "    <tbody>\n",
       "        <tr>\n",
       "            <td>756       </td> <td>Malt Vinegar & Sea Salt Kettle Cooked Potato Chips</td> <td>107     </td> <td>19           </td>\n",
       "        </tr>\n",
       "        <tr>\n",
       "            <td>1182      </td> <td>Chile Limón Flavored Potato Chips                 </td> <td>107     </td> <td>19           </td>\n",
       "        </tr>\n",
       "        <tr>\n",
       "            <td>1594      </td> <td>Cheddar Bacon Mac & Cheese Flavored Potato Chips  </td> <td>107     </td> <td>19           </td>\n",
       "        </tr>\n",
       "        <tr>\n",
       "            <td>1688      </td> <td>Sea Salted Reduced Fat Potato Chips               </td> <td>107     </td> <td>19           </td>\n",
       "        </tr>\n",
       "        <tr>\n",
       "            <td>2034      </td> <td>Kettle Cooked 40% Less Fat Original Potato Chips  </td> <td>107     </td> <td>19           </td>\n",
       "        </tr>\n",
       "        <tr>\n",
       "            <td>2052      </td> <td>Potato Chips, Organic, Sea Salt                   </td> <td>107     </td> <td>19           </td>\n",
       "        </tr>\n",
       "        <tr>\n",
       "            <td>2302      </td> <td>Cheddar + Roasted Tomato Baked Potato Chips       </td> <td>107     </td> <td>19           </td>\n",
       "        </tr>\n",
       "        <tr>\n",
       "            <td>2890      </td> <td>Reduced Fat Sour Cream & Onion Potato Chips       </td> <td>107     </td> <td>19           </td>\n",
       "        </tr>\n",
       "        <tr>\n",
       "            <td>3102      </td> <td>Potato Chips, Reduced Fat, Unsalted               </td> <td>107     </td> <td>19           </td>\n",
       "        </tr>\n",
       "        <tr>\n",
       "            <td>3145      </td> <td>Plain Sweet Potato Chips                          </td> <td>107     </td> <td>19           </td>\n",
       "        </tr>\n",
       "        <tr>\n",
       "            <td>3465      </td> <td>Luau Barbeque Potato Chips                        </td> <td>107     </td> <td>19           </td>\n",
       "        </tr>\n",
       "        <tr>\n",
       "            <td>3634      </td> <td>Krinkle Cut Classic Barbecue Potato Chips         </td> <td>107     </td> <td>19           </td>\n",
       "        </tr>\n",
       "        <tr>\n",
       "            <td>3636      </td> <td>Wavy Original Potato Chips Party Size             </td> <td>100     </td> <td>21           </td>\n",
       "        </tr>\n",
       "        <tr>\n",
       "            <td>4204      </td> <td>Crisp & Thin Sea Salt With Vinegar Potato Chips   </td> <td>100     </td> <td>21           </td>\n",
       "        </tr>\n",
       "        <tr>\n",
       "            <td>4332      </td> <td>Kettle Cooked Jalapeno Potato Chips               </td> <td>107     </td> <td>19           </td>\n",
       "        </tr>\n",
       "    </tbody>\n",
       "</table>\n",
       "<p>... (188 rows omitted)</p>"
      ],
      "text/plain": [
       "<IPython.core.display.HTML object>"
      ]
     },
     "metadata": {},
     "output_type": "display_data"
    }
   ],
   "source": [
    "potato_chips = find_products_by_phrase('potato chips', products)\n",
    "potato_chips.show(15)"
   ]
  },
  {
   "cell_type": "code",
   "execution_count": 8,
   "metadata": {
    "scrolled": true
   },
   "outputs": [
    {
     "data": {
      "text/html": [
       "<table border=\"1\" class=\"dataframe\">\n",
       "    <thead>\n",
       "        <tr>\n",
       "            <th>product_id</th> <th>product_name</th> <th>aisle_id</th> <th>department_id</th>\n",
       "        </tr>\n",
       "    </thead>\n",
       "    <tbody>\n",
       "        <tr>\n",
       "            <td>241       </td> <td>Shrimp with Pasta & Vegetables                              </td> <td>38      </td> <td>1            </td>\n",
       "        </tr>\n",
       "        <tr>\n",
       "            <td>282       </td> <td>Oh My Cod! Cod Pate and Vegetables Cat Food                 </td> <td>40      </td> <td>8            </td>\n",
       "        </tr>\n",
       "        <tr>\n",
       "            <td>377       </td> <td>Chunky Beef with Vegetables & Brown Rice Dog Food           </td> <td>40      </td> <td>8            </td>\n",
       "        </tr>\n",
       "        <tr>\n",
       "            <td>1175      </td> <td>Creamy Chicken Orzo with Mixed Vegetables                   </td> <td>69      </td> <td>15           </td>\n",
       "        </tr>\n",
       "        <tr>\n",
       "            <td>1663      </td> <td>Sausage Supreme Pizza with Fire Roasted Vegetables          </td> <td>79      </td> <td>1            </td>\n",
       "        </tr>\n",
       "        <tr>\n",
       "            <td>1836      </td> <td>Organic Steamable Mixed Vegetables                          </td> <td>116     </td> <td>1            </td>\n",
       "        </tr>\n",
       "        <tr>\n",
       "            <td>1903      </td> <td>Chicken Noodle with Vegetables Soup                         </td> <td>69      </td> <td>15           </td>\n",
       "        </tr>\n",
       "        <tr>\n",
       "            <td>2595      </td> <td>Tender white meat chicken, vegetables & rice in a chedda ...</td> <td>38      </td> <td>1            </td>\n",
       "        </tr>\n",
       "        <tr>\n",
       "            <td>2599      </td> <td>Organic Garden Vegetables with Herbs Soup                   </td> <td>69      </td> <td>15           </td>\n",
       "        </tr>\n",
       "        <tr>\n",
       "            <td>3101      </td> <td>Stir-Fry Vegetables                                         </td> <td>116     </td> <td>1            </td>\n",
       "        </tr>\n",
       "        <tr>\n",
       "            <td>3231      </td> <td>Steamfresh Edamame Pods Frozen Vegetables                   </td> <td>116     </td> <td>1            </td>\n",
       "        </tr>\n",
       "        <tr>\n",
       "            <td>3250      </td> <td>3rd Foods Garden Vegetables & Beef                          </td> <td>92      </td> <td>18           </td>\n",
       "        </tr>\n",
       "        <tr>\n",
       "            <td>3666      </td> <td>Fiesta Blend Vegetables                                     </td> <td>116     </td> <td>1            </td>\n",
       "        </tr>\n",
       "        <tr>\n",
       "            <td>3690      </td> <td>Fruitables Apple Harvest Fruits & Vegetables                </td> <td>98      </td> <td>7            </td>\n",
       "        </tr>\n",
       "        <tr>\n",
       "            <td>4617      </td> <td>California Vegetables                                       </td> <td>116     </td> <td>1            </td>\n",
       "        </tr>\n",
       "    </tbody>\n",
       "</table>\n",
       "<p>... (135 rows omitted)</p>"
      ],
      "text/plain": [
       "<IPython.core.display.HTML object>"
      ]
     },
     "metadata": {},
     "output_type": "display_data"
    }
   ],
   "source": [
    "healthy = find_products_by_phrase('vegetables', products)\n",
    "healthy.show(15) # Delicious..."
   ]
  },
  {
   "cell_type": "markdown",
   "metadata": {},
   "source": [
    "#### Now that we have our potato chips products, we're going to take a look at the users who have ordered them.\n",
    "There are a couple of questions we need to answer before we can get to what we want. \n",
    "First question: How are we going to link what we found in `potato_chips` to the other tables? \n",
    "Second question: Which of the other tables should we be looking at? Which table first? \n",
    "\n",
    "We're going to answer the second question before the first. Because we want to have a specific group of users based on the content of their orders, we need to have a connection between orders (specifically products in each order) and users. Of the two tables that have information about orders, let's look at the column names to figure out exactly what type of information each has. "
   ]
  },
  {
   "cell_type": "code",
   "execution_count": 14,
   "metadata": {},
   "outputs": [
    {
     "data": {
      "text/html": [
       "<table border=\"1\" class=\"dataframe\">\n",
       "    <thead>\n",
       "        <tr>\n",
       "            <th>order_id</th> <th>user_id</th> <th>eval_set</th> <th>order_number</th> <th>order_dow</th> <th>order_hour_of_day</th> <th>days_since_prior_order</th>\n",
       "        </tr>\n",
       "    </thead>\n",
       "    <tbody>\n",
       "        <tr>\n",
       "            <td>2411567 </td> <td>11     </td> <td>prior   </td> <td>1           </td> <td>0        </td> <td>11               </td> <td>nan                   </td>\n",
       "        </tr>\n",
       "        <tr>\n",
       "            <td>1170872 </td> <td>11     </td> <td>prior   </td> <td>2           </td> <td>5        </td> <td>11               </td> <td>12                    </td>\n",
       "        </tr>\n",
       "        <tr>\n",
       "            <td>2840752 </td> <td>11     </td> <td>prior   </td> <td>3           </td> <td>5        </td> <td>10               </td> <td>14                    </td>\n",
       "        </tr>\n",
       "        <tr>\n",
       "            <td>1611810 </td> <td>11     </td> <td>prior   </td> <td>4           </td> <td>5        </td> <td>13               </td> <td>30                    </td>\n",
       "        </tr>\n",
       "        <tr>\n",
       "            <td>2921164 </td> <td>11     </td> <td>prior   </td> <td>5           </td> <td>5        </td> <td>11               </td> <td>30                    </td>\n",
       "        </tr>\n",
       "        <tr>\n",
       "            <td>790927  </td> <td>11     </td> <td>prior   </td> <td>6           </td> <td>5        </td> <td>11               </td> <td>7                     </td>\n",
       "        </tr>\n",
       "        <tr>\n",
       "            <td>1468214 </td> <td>11     </td> <td>prior   </td> <td>7           </td> <td>5        </td> <td>9                </td> <td>30                    </td>\n",
       "        </tr>\n",
       "        <tr>\n",
       "            <td>1483446 </td> <td>12     </td> <td>prior   </td> <td>1           </td> <td>1        </td> <td>12               </td> <td>nan                   </td>\n",
       "        </tr>\n",
       "        <tr>\n",
       "            <td>1247527 </td> <td>12     </td> <td>prior   </td> <td>2           </td> <td>5        </td> <td>9                </td> <td>30                    </td>\n",
       "        </tr>\n",
       "        <tr>\n",
       "            <td>1916106 </td> <td>12     </td> <td>prior   </td> <td>3           </td> <td>5        </td> <td>8                </td> <td>14                    </td>\n",
       "        </tr>\n",
       "        <tr>\n",
       "            <td>1057378 </td> <td>12     </td> <td>prior   </td> <td>4           </td> <td>3        </td> <td>9                </td> <td>26                    </td>\n",
       "        </tr>\n",
       "        <tr>\n",
       "            <td>221248  </td> <td>12     </td> <td>prior   </td> <td>5           </td> <td>1        </td> <td>9                </td> <td>30                    </td>\n",
       "        </tr>\n",
       "        <tr>\n",
       "            <td>2064090 </td> <td>29     </td> <td>prior   </td> <td>1           </td> <td>5        </td> <td>11               </td> <td>nan                   </td>\n",
       "        </tr>\n",
       "        <tr>\n",
       "            <td>875452  </td> <td>29     </td> <td>prior   </td> <td>2           </td> <td>2        </td> <td>8                </td> <td>11                    </td>\n",
       "        </tr>\n",
       "        <tr>\n",
       "            <td>2657652 </td> <td>29     </td> <td>prior   </td> <td>3           </td> <td>2        </td> <td>10               </td> <td>14                    </td>\n",
       "        </tr>\n",
       "    </tbody>\n",
       "</table>\n",
       "<p>... (161779 rows omitted)</p>"
      ],
      "text/plain": [
       "<IPython.core.display.HTML object>"
      ]
     },
     "metadata": {},
     "output_type": "display_data"
    }
   ],
   "source": [
    "orders.show(15)"
   ]
  },
  {
   "cell_type": "code",
   "execution_count": 11,
   "metadata": {
    "scrolled": true
   },
   "outputs": [
    {
     "data": {
      "text/html": [
       "<table border=\"1\" class=\"dataframe\">\n",
       "    <thead>\n",
       "        <tr>\n",
       "            <th>order_id</th> <th>product_id</th> <th>add_to_cart_order</th> <th>reordered</th>\n",
       "        </tr>\n",
       "    </thead>\n",
       "    <tbody>\n",
       "        <tr>\n",
       "            <td>6       </td> <td>40462     </td> <td>1                </td> <td>0        </td>\n",
       "        </tr>\n",
       "        <tr>\n",
       "            <td>6       </td> <td>15873     </td> <td>2                </td> <td>0        </td>\n",
       "        </tr>\n",
       "        <tr>\n",
       "            <td>6       </td> <td>41897     </td> <td>3                </td> <td>0        </td>\n",
       "        </tr>\n",
       "        <tr>\n",
       "            <td>52      </td> <td>18963     </td> <td>1                </td> <td>0        </td>\n",
       "        </tr>\n",
       "        <tr>\n",
       "            <td>52      </td> <td>24852     </td> <td>2                </td> <td>1        </td>\n",
       "        </tr>\n",
       "        <tr>\n",
       "            <td>52      </td> <td>39408     </td> <td>3                </td> <td>1        </td>\n",
       "        </tr>\n",
       "        <tr>\n",
       "            <td>52      </td> <td>49683     </td> <td>4                </td> <td>1        </td>\n",
       "        </tr>\n",
       "        <tr>\n",
       "            <td>52      </td> <td>4485      </td> <td>5                </td> <td>0        </td>\n",
       "        </tr>\n",
       "        <tr>\n",
       "            <td>66      </td> <td>3397      </td> <td>1                </td> <td>1        </td>\n",
       "        </tr>\n",
       "        <tr>\n",
       "            <td>66      </td> <td>21955     </td> <td>2                </td> <td>1        </td>\n",
       "        </tr>\n",
       "        <tr>\n",
       "            <td>66      </td> <td>38689     </td> <td>3                </td> <td>1        </td>\n",
       "        </tr>\n",
       "        <tr>\n",
       "            <td>66      </td> <td>45368     </td> <td>4                </td> <td>1        </td>\n",
       "        </tr>\n",
       "        <tr>\n",
       "            <td>66      </td> <td>7658      </td> <td>5                </td> <td>1        </td>\n",
       "        </tr>\n",
       "        <tr>\n",
       "            <td>66      </td> <td>37102     </td> <td>6                </td> <td>0        </td>\n",
       "        </tr>\n",
       "        <tr>\n",
       "            <td>68      </td> <td>43739     </td> <td>1                </td> <td>1        </td>\n",
       "        </tr>\n",
       "        <tr>\n",
       "            <td>68      </td> <td>17924     </td> <td>2                </td> <td>1        </td>\n",
       "        </tr>\n",
       "        <tr>\n",
       "            <td>68      </td> <td>31805     </td> <td>3                </td> <td>1        </td>\n",
       "        </tr>\n",
       "        <tr>\n",
       "            <td>68      </td> <td>9387      </td> <td>4                </td> <td>1        </td>\n",
       "        </tr>\n",
       "        <tr>\n",
       "            <td>68      </td> <td>196       </td> <td>5                </td> <td>1        </td>\n",
       "        </tr>\n",
       "        <tr>\n",
       "            <td>68      </td> <td>7768      </td> <td>6                </td> <td>0        </td>\n",
       "        </tr>\n",
       "        <tr>\n",
       "            <td>68      </td> <td>17207     </td> <td>7                </td> <td>0        </td>\n",
       "        </tr>\n",
       "        <tr>\n",
       "            <td>68      </td> <td>1629      </td> <td>8                </td> <td>0        </td>\n",
       "        </tr>\n",
       "        <tr>\n",
       "            <td>68      </td> <td>21288     </td> <td>9                </td> <td>1        </td>\n",
       "        </tr>\n",
       "        <tr>\n",
       "            <td>79      </td> <td>4210      </td> <td>1                </td> <td>1        </td>\n",
       "        </tr>\n",
       "        <tr>\n",
       "            <td>79      </td> <td>4377      </td> <td>2                </td> <td>1        </td>\n",
       "        </tr>\n",
       "        <tr>\n",
       "            <td>79      </td> <td>39461     </td> <td>3                </td> <td>1        </td>\n",
       "        </tr>\n",
       "        <tr>\n",
       "            <td>79      </td> <td>13627     </td> <td>4                </td> <td>1        </td>\n",
       "        </tr>\n",
       "    </tbody>\n",
       "</table>\n",
       "<p>... (1635852 rows omitted)</p>"
      ],
      "text/plain": [
       "<IPython.core.display.HTML object>"
      ]
     },
     "metadata": {},
     "output_type": "display_data"
    }
   ],
   "source": [
    "orders_products.show(27)"
   ]
  },
  {
   "cell_type": "markdown",
   "metadata": {},
   "source": [
    "It seems that the `potato_chips` table has `product_id` in common with the `orders_products` table. Also, the `orders_products` table shares `order_id` with the `orders` table. \n",
    "\n",
    "To circle back to the two questions: For the second question, we're going to look at the `orders_products` and `orders` tables in that order. For the first question, we're going to find the relevant `order_id`s in `orders_products` using the `product_id`s in table `potato_chips` and then filter `orders` to only contain those relevant `order_id`s. Let's do it! "
   ]
  },
  {
   "cell_type": "markdown",
   "metadata": {},
   "source": [
    "In the long line of code below, by using `.select`, `potato_chips` is made a smaller table with only the column `product_id`. Similarly, `orders_products` is made into a table with only two columns, `order_id` and `product_id`. \n",
    "Cutting down tables (temporarily) to only contain necessary information, then joining, decreases the \n",
    "amount of time it takes to perform the join. \n",
    "\n",
    "`orders_products_pchips` holds two columns, both of which are tied to the potato chips we found in our `potato_chips` table. The first column, `product_id`, refers to a specific kind of potato chip product. The second column, `order_id`, refers to the specific order a user placed one day. \n",
    "\n",
    "_Note: This cell will take approximately 30 seconds to run._"
   ]
  },
  {
   "cell_type": "code",
   "execution_count": 15,
   "metadata": {},
   "outputs": [
    {
     "data": {
      "text/html": [
       "<table border=\"1\" class=\"dataframe\">\n",
       "    <thead>\n",
       "        <tr>\n",
       "            <th>product_id</th> <th>order_id</th>\n",
       "        </tr>\n",
       "    </thead>\n",
       "    <tbody>\n",
       "        <tr>\n",
       "            <td>756       </td> <td>33936   </td>\n",
       "        </tr>\n",
       "        <tr>\n",
       "            <td>756       </td> <td>1129552 </td>\n",
       "        </tr>\n",
       "        <tr>\n",
       "            <td>756       </td> <td>1609886 </td>\n",
       "        </tr>\n",
       "    </tbody>\n",
       "</table>\n",
       "<p>... (6793 rows omitted)</p>"
      ],
      "text/plain": [
       "<IPython.core.display.HTML object>"
      ]
     },
     "metadata": {},
     "output_type": "display_data"
    }
   ],
   "source": [
    "orders_products_pchips = orders_products.select('order_id', 'product_id')\\\n",
    "                                        .join('product_id', potato_chips.select('product_id'))\n",
    "orders_products_pchips.show(5)"
   ]
  },
  {
   "cell_type": "markdown",
   "metadata": {},
   "source": [
    "Because `eval_set` and `days_since_prior_order` aren't of interest to us, those two columns were dropped from orders to make the table smaller upon execution of join. What results is a table arbitrarily named `pchips_orders_users` that \n",
    "connects users to their orders containing potato chips. "
   ]
  },
  {
   "cell_type": "code",
   "execution_count": 17,
   "metadata": {},
   "outputs": [
    {
     "data": {
      "text/html": [
       "<table border=\"1\" class=\"dataframe\">\n",
       "    <thead>\n",
       "        <tr>\n",
       "            <th>order_id</th> <th>product_id</th> <th>user_id</th> <th>order_number</th> <th>order_dow</th> <th>order_hour_of_day</th>\n",
       "        </tr>\n",
       "    </thead>\n",
       "    <tbody>\n",
       "        <tr>\n",
       "            <td>610     </td> <td>6489      </td> <td>196148 </td> <td>25          </td> <td>0        </td> <td>15               </td>\n",
       "        </tr>\n",
       "        <tr>\n",
       "            <td>829     </td> <td>19863     </td> <td>141625 </td> <td>7           </td> <td>1        </td> <td>10               </td>\n",
       "        </tr>\n",
       "        <tr>\n",
       "            <td>1296    </td> <td>18288     </td> <td>135521 </td> <td>5           </td> <td>1        </td> <td>10               </td>\n",
       "        </tr>\n",
       "        <tr>\n",
       "            <td>1855    </td> <td>22425     </td> <td>126787 </td> <td>3           </td> <td>1        </td> <td>13               </td>\n",
       "        </tr>\n",
       "        <tr>\n",
       "            <td>2347    </td> <td>23645     </td> <td>114449 </td> <td>30          </td> <td>0        </td> <td>16               </td>\n",
       "        </tr>\n",
       "    </tbody>\n",
       "</table>\n",
       "<p>... (6791 rows omitted)</p>"
      ],
      "text/plain": [
       "<IPython.core.display.HTML object>"
      ]
     },
     "metadata": {},
     "output_type": "display_data"
    }
   ],
   "source": [
    "pchips_orders_users = orders_products_pchips.join('order_id', orders.drop('eval_set', 'days_since_prior_order'))\n",
    "pchips_orders_users.show(5)"
   ]
  },
  {
   "cell_type": "markdown",
   "metadata": {},
   "source": [
    "Now we want to filter `pchips_orders_users` to only contain the users who ordered some kind of potato chips at least\n",
    "in 50% of their orders that exist in our data set. \n",
    "\n",
    "To get a group of users who fit the above criterion, we group `pchips_orders_users` to obtain the count or number of \n",
    "orders by user containing potato chips. Then using [`.group`](http://data8.org/datascience/_autosummary/datascience.tables.Table.group.html) and [`.join`](http://data8.org/datascience/_autosummary/datascience.tables.Table.join.html) between orders and itself to find the max order \n",
    "number or total number of orders placed by user. We join both of these tables to get the desired user ids. "
   ]
  },
  {
   "cell_type": "code",
   "execution_count": 18,
   "metadata": {
    "scrolled": true
   },
   "outputs": [
    {
     "data": {
      "text/html": [
       "<table border=\"1\" class=\"dataframe\">\n",
       "    <thead>\n",
       "        <tr>\n",
       "            <th>user_id</th> <th>pchip order count</th> <th>order_number max</th>\n",
       "        </tr>\n",
       "    </thead>\n",
       "    <tbody>\n",
       "        <tr>\n",
       "            <td>46     </td> <td>14               </td> <td>19              </td>\n",
       "        </tr>\n",
       "        <tr>\n",
       "            <td>58     </td> <td>3                </td> <td>15              </td>\n",
       "        </tr>\n",
       "        <tr>\n",
       "            <td>60     </td> <td>2                </td> <td>8               </td>\n",
       "        </tr>\n",
       "        <tr>\n",
       "            <td>181    </td> <td>3                </td> <td>10              </td>\n",
       "        </tr>\n",
       "        <tr>\n",
       "            <td>201    </td> <td>1                </td> <td>7               </td>\n",
       "        </tr>\n",
       "    </tbody>\n",
       "</table>\n",
       "<p>... (1810 rows omitted)</p>"
      ],
      "text/plain": [
       "<IPython.core.display.HTML object>"
      ]
     },
     "metadata": {},
     "output_type": "display_data"
    }
   ],
   "source": [
    "pchips_users = pchips_orders_users.group('user_id').relabel('count', 'pchip order count')\\\n",
    "                                .join('user_id', orders.select(['user_id', 'order_number']).group('user_id', max))\n",
    "pchips_users.show(5)"
   ]
  },
  {
   "cell_type": "markdown",
   "metadata": {},
   "source": [
    "Here we add a column, `pchip_freq_buyer`, to the new `pchips_users` table which holds `True` if that user bought potato chips in more than half of his/her/their orders. "
   ]
  },
  {
   "cell_type": "code",
   "execution_count": 19,
   "metadata": {},
   "outputs": [
    {
     "name": "stderr",
     "output_type": "stream",
     "text": [
      "/opt/conda/lib/python3.8/site-packages/datascience/tables.py:471: FutureWarning: column lists are deprecated; pass each as an argument\n",
      "  warnings.warn(\n"
     ]
    },
    {
     "data": {
      "text/html": [
       "<table border=\"1\" class=\"dataframe\">\n",
       "    <thead>\n",
       "        <tr>\n",
       "            <th>user_id</th> <th>pchip order count</th> <th>order_number max</th> <th>pchip_freq_buyer</th>\n",
       "        </tr>\n",
       "    </thead>\n",
       "    <tbody>\n",
       "        <tr>\n",
       "            <td>46     </td> <td>14               </td> <td>19              </td> <td>True            </td>\n",
       "        </tr>\n",
       "        <tr>\n",
       "            <td>58     </td> <td>3                </td> <td>15              </td> <td>False           </td>\n",
       "        </tr>\n",
       "        <tr>\n",
       "            <td>60     </td> <td>2                </td> <td>8               </td> <td>False           </td>\n",
       "        </tr>\n",
       "        <tr>\n",
       "            <td>181    </td> <td>3                </td> <td>10              </td> <td>False           </td>\n",
       "        </tr>\n",
       "        <tr>\n",
       "            <td>201    </td> <td>1                </td> <td>7               </td> <td>False           </td>\n",
       "        </tr>\n",
       "    </tbody>\n",
       "</table>\n",
       "<p>... (1810 rows omitted)</p>"
      ],
      "text/plain": [
       "<IPython.core.display.HTML object>"
      ]
     },
     "metadata": {},
     "output_type": "display_data"
    }
   ],
   "source": [
    "pchips_users = pchips_users.with_column('pchip_freq_buyer', \n",
    "                            pchips_users.apply(lambda count, total: True if count/total > 0.5 else False, \n",
    "                                                                   ['pchip order count', 'order_number max']))\n",
    "pchips_users.show(5)"
   ]
  },
  {
   "cell_type": "code",
   "execution_count": 22,
   "metadata": {},
   "outputs": [
    {
     "name": "stdout",
     "output_type": "stream",
     "text": [
      "There are 188 users who appear to be frequent buyers of potato chips!\n"
     ]
    }
   ],
   "source": [
    "print(\"There are\", pchips_users.where('pchip_freq_buyer', True).num_rows, \n",
    "                                                          \"users who appear to be frequent buyers of potato chips!\")"
   ]
  },
  {
   "cell_type": "markdown",
   "metadata": {},
   "source": [
    "An overview of how we found our crisp-lovers:\n",
    "1. Identified the `product_id` of different chips.\n",
    "2. Selected the rows in `orders_products` where a chip `product_id` occurred.\n",
    "3. Grouped the remaining rows to figure out which trips had a chip purchase.\n",
    "4. Joined with `orders` on `order_id` so that we knew which user's trips had a chip purchase.\n",
    "5. Grouped the number of chip trips for each user, so we knew their total number of potato purchases.\n",
    "6. Compared that number to the total number of transactions the user made and filtered out those with >50%."
   ]
  },
  {
   "cell_type": "markdown",
   "metadata": {},
   "source": [
    "#### Next Steps\n",
    "We're at the point where we have a table, pchips_freq_buyers, with which we can find all sorts of interesting characteristics about this population. At this point, hopefully you feel comfortable conducting your own analyses. If not, the following code will finish off, for now, this example. \n",
    "\n",
    "__In addition to `orders`, `orders_products`, and `products`, you have access to two other datasets (`aisles` and `departments`) located in the folder named `instacart_data`. If you wish to open those datasets, recall how we read products into a table.__\n",
    "\n",
    "<em>Some low hanging fruit for you to explore includes taking the following visualizations that we make for our chip buyers and comparing them to all of the users.<em>"
   ]
  },
  {
   "cell_type": "code",
   "execution_count": 23,
   "metadata": {},
   "outputs": [
    {
     "data": {
      "text/html": [
       "<table border=\"1\" class=\"dataframe\">\n",
       "    <thead>\n",
       "        <tr>\n",
       "            <th>user_id</th> <th>order_id</th> <th>product_id</th> <th>order_number</th> <th>order_dow</th> <th>order_hour_of_day</th>\n",
       "        </tr>\n",
       "    </thead>\n",
       "    <tbody>\n",
       "        <tr>\n",
       "            <td>46     </td> <td>31801   </td> <td>42987     </td> <td>2           </td> <td>1        </td> <td>13               </td>\n",
       "        </tr>\n",
       "        <tr>\n",
       "            <td>46     </td> <td>244623  </td> <td>42987     </td> <td>11          </td> <td>0        </td> <td>12               </td>\n",
       "        </tr>\n",
       "        <tr>\n",
       "            <td>46     </td> <td>398975  </td> <td>42987     </td> <td>8           </td> <td>1        </td> <td>12               </td>\n",
       "        </tr>\n",
       "        <tr>\n",
       "            <td>46     </td> <td>821110  </td> <td>42987     </td> <td>7           </td> <td>1        </td> <td>12               </td>\n",
       "        </tr>\n",
       "        <tr>\n",
       "            <td>46     </td> <td>1406544 </td> <td>42987     </td> <td>6           </td> <td>1        </td> <td>15               </td>\n",
       "        </tr>\n",
       "    </tbody>\n",
       "</table>\n",
       "<p>... (1786 rows omitted)</p>"
      ],
      "text/plain": [
       "<IPython.core.display.HTML object>"
      ]
     },
     "metadata": {},
     "output_type": "display_data"
    }
   ],
   "source": [
    "# Filtering pchips_orders_users to only contain users in pchips_users for which pchip_freq_buyer is True\n",
    "pchips_freq_buyers = pchips_orders_users.join('user_id', \n",
    "                                              pchips_users.where('pchip_freq_buyer', True).select('user_id'))\n",
    "pchips_freq_buyers.show(5)"
   ]
  },
  {
   "cell_type": "code",
   "execution_count": 24,
   "metadata": {},
   "outputs": [
    {
     "name": "stdout",
     "output_type": "stream",
     "text": [
      "Most popular kind among this user group is: Sea Salt & Vinegar Potato Chips\n"
     ]
    }
   ],
   "source": [
    "# Question: What's the most popular kind of potato chips amongst chip connoisseurs? \n",
    "popular_pchip_row = pchips_freq_buyers.group('product_id').sort('count', descending=True).row(0)\n",
    "popular_pchip_id = popular_pchip_row[0]\n",
    "print(\"Most popular kind among this user group is:\", \n",
    "      products.where('product_id', popular_pchip_id).column('product_name')[0])"
   ]
  },
  {
   "cell_type": "markdown",
   "metadata": {},
   "source": [
    "### Some visualizations of the data findings: \n",
    "![alt text](images/example_analysis_1.png)\n",
    "#### Compare the above with this table of bestsellers based on the entire original dataset: \n",
    "![alt text](images/compare_1_a.png)\n",
    "\n",
    "![alt text](images/example_analysis_2.png)\n",
    "![alt text](images/example_analysis_3.png)\n",
    "#### Compare the above with these bar charts based on data the entire orders_subset: \n",
    "![alt text](images/compare_2.png)\n",
    "![alt text](images/compare_3.png)\n",
    "\n",
    "*The remaining code of the example is all about the visualizations shown here. Feel free to reference the code if you would like to build a horizontal bar chart or histogram.*"
   ]
  },
  {
   "cell_type": "markdown",
   "metadata": {},
   "source": [
    "The next two cells can be used to visualize quantitative distributions."
   ]
  },
  {
   "cell_type": "code",
   "execution_count": 25,
   "metadata": {},
   "outputs": [
    {
     "data": {
      "text/plain": [
       "Text(0.5, 0, 'DoW (0=Saturday, 1=Sunday)')"
      ]
     },
     "execution_count": 25,
     "metadata": {},
     "output_type": "execute_result"
    },
    {
     "data": {
      "image/png": "[encoded data removed]",
      "text/plain": [
       "<Figure size 432x288 with 1 Axes>"
      ]
     },
     "metadata": {
      "needs_background": "light"
     },
     "output_type": "display_data"
    }
   ],
   "source": [
    "# histogram with custom title and x-label\n",
    "plt.hist(pchips_freq_buyers.column('order_dow'), color='green')\n",
    "plt.title('DoW for Orders Containing Potato Chips by Frequent Buyers of Potato Chips', y=1.08)\n",
    "plt.xlabel('DoW (0=Saturday, 1=Sunday)')"
   ]
  },
  {
   "cell_type": "code",
   "execution_count": 26,
   "metadata": {},
   "outputs": [
    {
     "data": {
      "text/plain": [
       "Text(0.5, 0, 'Hour')"
      ]
     },
     "execution_count": 26,
     "metadata": {},
     "output_type": "execute_result"
    },
    {
     "data": {
      "image/png": "[encoded data removed]",
      "text/plain": [
       "<Figure size 432x288 with 1 Axes>"
      ]
     },
     "metadata": {
      "needs_background": "light"
     },
     "output_type": "display_data"
    }
   ],
   "source": [
    "plt.hist(pchips_freq_buyers.column('order_hour_of_day'), color='green')\n",
    "plt.title('Hour of Day for Orders Containing Potato Chips by Frequent Buyers of Potato Chips', y=1.08)\n",
    "plt.xlabel('Hour')"
   ]
  },
  {
   "cell_type": "markdown",
   "metadata": {},
   "source": [
    "Question: What other products are ordered frequently by this specific group of people?"
   ]
  },
  {
   "cell_type": "code",
   "execution_count": 27,
   "metadata": {},
   "outputs": [
    {
     "data": {
      "text/html": [
       "<table border=\"1\" class=\"dataframe\">\n",
       "    <thead>\n",
       "        <tr>\n",
       "            <th>product_name</th> <th>count</th>\n",
       "        </tr>\n",
       "    </thead>\n",
       "    <tbody>\n",
       "        <tr>\n",
       "            <td>Banana                         </td> <td>358  </td>\n",
       "        </tr>\n",
       "        <tr>\n",
       "            <td>Bag of Organic Bananas         </td> <td>345  </td>\n",
       "        </tr>\n",
       "        <tr>\n",
       "            <td>Organic Hass Avocado           </td> <td>259  </td>\n",
       "        </tr>\n",
       "        <tr>\n",
       "            <td>Organic Baby Spinach           </td> <td>228  </td>\n",
       "        </tr>\n",
       "        <tr>\n",
       "            <td>Limes                          </td> <td>215  </td>\n",
       "        </tr>\n",
       "        <tr>\n",
       "            <td>Large Lemon                    </td> <td>195  </td>\n",
       "        </tr>\n",
       "        <tr>\n",
       "            <td>Organic Strawberries           </td> <td>195  </td>\n",
       "        </tr>\n",
       "        <tr>\n",
       "            <td>Sea Salt & Vinegar Potato Chips</td> <td>183  </td>\n",
       "        </tr>\n",
       "        <tr>\n",
       "            <td>Honeycrisp Apple               </td> <td>142  </td>\n",
       "        </tr>\n",
       "        <tr>\n",
       "            <td>Sea Salt Potato Chips          </td> <td>135  </td>\n",
       "        </tr>\n",
       "    </tbody>\n",
       "</table>"
      ],
      "text/plain": [
       "product_name                    | count\n",
       "Banana                          | 358\n",
       "Bag of Organic Bananas          | 345\n",
       "Organic Hass Avocado            | 259\n",
       "Organic Baby Spinach            | 228\n",
       "Limes                           | 215\n",
       "Large Lemon                     | 195\n",
       "Organic Strawberries            | 195\n",
       "Sea Salt & Vinegar Potato Chips | 183\n",
       "Honeycrisp Apple                | 142\n",
       "Sea Salt Potato Chips           | 135"
      ]
     },
     "execution_count": 27,
     "metadata": {},
     "output_type": "execute_result"
    }
   ],
   "source": [
    "# This cell will take a while\n",
    "# Creating a table of just user id's of frequent buyers\n",
    "freq_pchip_buyers_id = pchips_users.where('pchip_freq_buyer', True).select('user_id') \n",
    "\n",
    "# Getting the order ids \n",
    "freq_pchip_buyers_orders = orders.select(['user_id', 'order_id']).join('user_id', freq_pchip_buyers_id)\n",
    "\n",
    "# Linking the order ids to product ids \n",
    "freq_pchip_buyers_productids = orders_products.select([\"order_id\", \"product_id\"])\\\n",
    "                                              .join('order_id', freq_pchip_buyers_orders)\n",
    "    \n",
    "# Linking product ids to product names\n",
    "freq_pchip_buyers_products = freq_pchip_buyers_productids.select(['product_id'])\\\n",
    "                                                         .join('product_id', \n",
    "                                                               products.select(['product_id', 'product_name']))\n",
    "     \n",
    "# Getting the top 10 products most commonly purchased by this group of potato chip frequent buyers\n",
    "# Note that the 'count' column refers to number of orders\n",
    "freq_pchip_buyers_products = freq_pchip_buyers_products.group('product_name')\\\n",
    "                                                       .sort('count', descending=True)\\\n",
    "                                                       .take(np.arange(10))\n",
    "freq_pchip_buyers_products"
   ]
  },
  {
   "cell_type": "code",
   "execution_count": 28,
   "metadata": {},
   "outputs": [
    {
     "name": "stderr",
     "output_type": "stream",
     "text": [
      "<ipython-input-28-d51678a1fb38>:4: UserWarning: FixedFormatter should only be used together with FixedLocator\n",
      "  ax.set_yticklabels(freq_pchip_buyers_products.column('product_name'))\n"
     ]
    },
    {
     "data": {
      "text/plain": [
       "Text(0.5, 1.08, 'Bestsellers Amongst the Potato-Chips Frequent Buyers')"
      ]
     },
     "execution_count": 28,
     "metadata": {},
     "output_type": "execute_result"
    },
    {
     "data": {
      "image/png": "[encoded data removed]",
      "text/plain": [
       "<Figure size 432x288 with 1 Axes>"
      ]
     },
     "metadata": {
      "needs_background": "light"
     },
     "output_type": "display_data"
    }
   ],
   "source": [
    "fig, ax = plt.subplots()\n",
    "ypos = np.arange(10)\n",
    "ax.barh(ypos, freq_pchip_buyers_products.column('count'), color='green')\n",
    "ax.set_yticklabels(freq_pchip_buyers_products.column('product_name'))\n",
    "ax.set_yticks(ypos)\n",
    "ax.invert_yaxis() \n",
    "ax.set_xlabel('Count')\n",
    "ax.set_title('Bestsellers Amongst the Potato-Chips Frequent Buyers', y=1.08)"
   ]
  },
  {
   "cell_type": "markdown",
   "metadata": {},
   "source": [
    "# Now it's your turn!\n",
    "\n",
    "Feel free to copy the models from above, then make slight modifications to explore a different question. Enter code in the following cell to get started. \n",
    "\n",
    "<em>Remember: You can either click `Insert > Insert Cell Below` or press `esc` and `b` to create new cells."
   ]
  },
  {
   "cell_type": "code",
   "execution_count": null,
   "metadata": {},
   "outputs": [],
   "source": [
    "# Your code here\n",
    "fig, ax = plt.subplots()\n",
    "ypos = np.arange(10)\n",
    "ax.barh(ypos, freq_pchip_buyers_products.column('count'), color='green')\n",
    "ax.set_yticklabels(freq_pchip_buyers_products.column('product_name'))\n",
    "ax.set_yticks(ypos)\n",
    "ax.invert_yaxis() \n",
    "ax.set_xlabel('Count')\n",
    "ax.set_title('Bestsellers Amongst the Potato-Chips Frequent Buyers', y=1.08)\n"
   ]
  },
  {
   "cell_type": "code",
   "execution_count": null,
   "metadata": {},
   "outputs": [],
   "source": [
    "plt.hist(pchips_freq_buyers.column('order_dow'), color='green')\n",
    "plt.title('DoW for Orders Containing Potato Chips by Frequent Buyers of Potato Chips', y=1.08)\n",
    "plt.xlabel('DoW (0=Saturday, 1=Sunday)')"
   ]
  }
 ],
 "metadata": {
  "anaconda-cloud": {},
  "history": [
   {
    "code": "!head instacart_data/products.csv",
    "id": "1104cf3587f0468d80ec328dfa2f1005",
    "idx": 3,
    "time": "2021-01-18T18:46:56.818Z",
    "type": "execution"
   },
   {
    "id": "1104cf3587f0468d80ec328dfa2f1005",
    "time": "2021-01-18T18:46:57.616Z",
    "type": "completion"
   }
  ],
  "kernelspec": {
   "display_name": "Python 3",
   "language": "python",
   "name": "python3"
  },
  "language_info": {
   "codemirror_mode": {
    "name": "ipython",
    "version": 3
   },
   "file_extension": ".py",
   "mimetype": "text/x-python",
   "name": "python",
   "nbconvert_exporter": "python",
   "pygments_lexer": "ipython3",
   "version": "3.8.6"
  }
 },
 "nbformat": 4,
 "nbformat_minor": 1
}
